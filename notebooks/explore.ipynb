{
 "cells": [
  {
   "cell_type": "markdown",
   "id": "5555699b-6d68-409e-837a-adaae1bf275b",
   "metadata": {},
   "source": [
    "# Exploratory Data Analysis"
   ]
  },
  {
   "cell_type": "code",
   "execution_count": 53,
   "id": "c5f4df83-a5c6-4af9-a322-15bbe1f46be9",
   "metadata": {},
   "outputs": [],
   "source": [
    "import pandas as pd\n",
    "import numpy as np\n",
    "import matplotlib.pyplot as plt\n",
    "import seaborn as sns\n",
    "\n",
    "import warnings\n",
    "warnings.filterwarnings('ignore')"
   ]
  },
  {
   "cell_type": "code",
   "execution_count": 29,
   "id": "6de2ad24-db36-4407-a58c-711e4736b0e4",
   "metadata": {},
   "outputs": [],
   "source": [
    "sns.set_context('notebook')\n",
    "sns.set_palette('deep')"
   ]
  },
  {
   "cell_type": "markdown",
   "id": "26be39e1-446a-4923-ab32-19b21abe986c",
   "metadata": {},
   "source": [
    "## Load data"
   ]
  },
  {
   "cell_type": "code",
   "execution_count": 2,
   "id": "105f4f42-995e-4afe-9e1d-543eaeb6f94a",
   "metadata": {},
   "outputs": [],
   "source": [
    "df = pd.read_csv('../data/interim/loans_interim.csv')"
   ]
  },
  {
   "cell_type": "code",
   "execution_count": 3,
   "id": "ed550c4e-bec0-47b2-b3e1-06b7826c6ae1",
   "metadata": {},
   "outputs": [
    {
     "data": {
      "text/html": [
       "<div>\n",
       "<style scoped>\n",
       "    .dataframe tbody tr th:only-of-type {\n",
       "        vertical-align: middle;\n",
       "    }\n",
       "\n",
       "    .dataframe tbody tr th {\n",
       "        vertical-align: top;\n",
       "    }\n",
       "\n",
       "    .dataframe thead th {\n",
       "        text-align: right;\n",
       "    }\n",
       "</style>\n",
       "<table border=\"1\" class=\"dataframe\">\n",
       "  <thead>\n",
       "    <tr style=\"text-align: right;\">\n",
       "      <th></th>\n",
       "      <th>Loan_ID</th>\n",
       "      <th>Channel</th>\n",
       "      <th>Seller_Name</th>\n",
       "      <th>Original_Interest_Rate</th>\n",
       "      <th>Original_UPB</th>\n",
       "      <th>Original_Loan_Term</th>\n",
       "      <th>Origination_Date</th>\n",
       "      <th>First_Payment_Date</th>\n",
       "      <th>LTV</th>\n",
       "      <th>CLTV</th>\n",
       "      <th>...</th>\n",
       "      <th>First_Time_Home_Buyer</th>\n",
       "      <th>Loan_Purpose</th>\n",
       "      <th>Property_Type</th>\n",
       "      <th>Number_of_Units</th>\n",
       "      <th>Occupancy_Status</th>\n",
       "      <th>Property_State</th>\n",
       "      <th>Zip</th>\n",
       "      <th>Mortgage_Insurance_Per</th>\n",
       "      <th>count</th>\n",
       "      <th>foreclosure</th>\n",
       "    </tr>\n",
       "  </thead>\n",
       "  <tbody>\n",
       "    <tr>\n",
       "      <th>0</th>\n",
       "      <td>100002130634</td>\n",
       "      <td>R</td>\n",
       "      <td>Quicken Loans Inc.</td>\n",
       "      <td>4.375</td>\n",
       "      <td>159000.0</td>\n",
       "      <td>360.0</td>\n",
       "      <td>122016.0</td>\n",
       "      <td>22017.0</td>\n",
       "      <td>62.0</td>\n",
       "      <td>62.0</td>\n",
       "      <td>...</td>\n",
       "      <td>N</td>\n",
       "      <td>R</td>\n",
       "      <td>SF</td>\n",
       "      <td>1.0</td>\n",
       "      <td>P</td>\n",
       "      <td>CO</td>\n",
       "      <td>804.0</td>\n",
       "      <td>NaN</td>\n",
       "      <td>30</td>\n",
       "      <td>False</td>\n",
       "    </tr>\n",
       "    <tr>\n",
       "      <th>1</th>\n",
       "      <td>100003080256</td>\n",
       "      <td>B</td>\n",
       "      <td>United Shore Financial Services, Llc Dba Unite...</td>\n",
       "      <td>4.875</td>\n",
       "      <td>94000.0</td>\n",
       "      <td>360.0</td>\n",
       "      <td>22017.0</td>\n",
       "      <td>42017.0</td>\n",
       "      <td>75.0</td>\n",
       "      <td>75.0</td>\n",
       "      <td>...</td>\n",
       "      <td>N</td>\n",
       "      <td>P</td>\n",
       "      <td>SF</td>\n",
       "      <td>2.0</td>\n",
       "      <td>I</td>\n",
       "      <td>CT</td>\n",
       "      <td>60.0</td>\n",
       "      <td>NaN</td>\n",
       "      <td>46</td>\n",
       "      <td>False</td>\n",
       "    </tr>\n",
       "    <tr>\n",
       "      <th>2</th>\n",
       "      <td>100003080256</td>\n",
       "      <td>B</td>\n",
       "      <td>United Shore Financial Services, LLC dba Unite...</td>\n",
       "      <td>4.875</td>\n",
       "      <td>94000.0</td>\n",
       "      <td>360.0</td>\n",
       "      <td>22017.0</td>\n",
       "      <td>42017.0</td>\n",
       "      <td>75.0</td>\n",
       "      <td>75.0</td>\n",
       "      <td>...</td>\n",
       "      <td>N</td>\n",
       "      <td>P</td>\n",
       "      <td>SF</td>\n",
       "      <td>2.0</td>\n",
       "      <td>I</td>\n",
       "      <td>CT</td>\n",
       "      <td>60.0</td>\n",
       "      <td>NaN</td>\n",
       "      <td>46</td>\n",
       "      <td>False</td>\n",
       "    </tr>\n",
       "    <tr>\n",
       "      <th>3</th>\n",
       "      <td>100003080256</td>\n",
       "      <td>B</td>\n",
       "      <td>United Wholesale Mortgage, LLC</td>\n",
       "      <td>4.875</td>\n",
       "      <td>94000.0</td>\n",
       "      <td>360.0</td>\n",
       "      <td>22017.0</td>\n",
       "      <td>42017.0</td>\n",
       "      <td>75.0</td>\n",
       "      <td>75.0</td>\n",
       "      <td>...</td>\n",
       "      <td>N</td>\n",
       "      <td>P</td>\n",
       "      <td>SF</td>\n",
       "      <td>2.0</td>\n",
       "      <td>I</td>\n",
       "      <td>CT</td>\n",
       "      <td>60.0</td>\n",
       "      <td>NaN</td>\n",
       "      <td>46</td>\n",
       "      <td>False</td>\n",
       "    </tr>\n",
       "    <tr>\n",
       "      <th>4</th>\n",
       "      <td>100003722619</td>\n",
       "      <td>R</td>\n",
       "      <td>Quicken Loans Inc.</td>\n",
       "      <td>3.875</td>\n",
       "      <td>113000.0</td>\n",
       "      <td>240.0</td>\n",
       "      <td>122016.0</td>\n",
       "      <td>22017.0</td>\n",
       "      <td>75.0</td>\n",
       "      <td>75.0</td>\n",
       "      <td>...</td>\n",
       "      <td>N</td>\n",
       "      <td>C</td>\n",
       "      <td>SF</td>\n",
       "      <td>1.0</td>\n",
       "      <td>I</td>\n",
       "      <td>TN</td>\n",
       "      <td>370.0</td>\n",
       "      <td>NaN</td>\n",
       "      <td>39</td>\n",
       "      <td>False</td>\n",
       "    </tr>\n",
       "  </tbody>\n",
       "</table>\n",
       "<p>5 rows × 24 columns</p>\n",
       "</div>"
      ],
      "text/plain": [
       "        Loan_ID Channel                                        Seller_Name  \\\n",
       "0  100002130634       R                                 Quicken Loans Inc.   \n",
       "1  100003080256       B  United Shore Financial Services, Llc Dba Unite...   \n",
       "2  100003080256       B  United Shore Financial Services, LLC dba Unite...   \n",
       "3  100003080256       B                     United Wholesale Mortgage, LLC   \n",
       "4  100003722619       R                                 Quicken Loans Inc.   \n",
       "\n",
       "   Original_Interest_Rate  Original_UPB  Original_Loan_Term  Origination_Date  \\\n",
       "0                   4.375      159000.0               360.0          122016.0   \n",
       "1                   4.875       94000.0               360.0           22017.0   \n",
       "2                   4.875       94000.0               360.0           22017.0   \n",
       "3                   4.875       94000.0               360.0           22017.0   \n",
       "4                   3.875      113000.0               240.0          122016.0   \n",
       "\n",
       "   First_Payment_Date   LTV  CLTV  ...  First_Time_Home_Buyer  Loan_Purpose  \\\n",
       "0             22017.0  62.0  62.0  ...                      N             R   \n",
       "1             42017.0  75.0  75.0  ...                      N             P   \n",
       "2             42017.0  75.0  75.0  ...                      N             P   \n",
       "3             42017.0  75.0  75.0  ...                      N             P   \n",
       "4             22017.0  75.0  75.0  ...                      N             C   \n",
       "\n",
       "   Property_Type  Number_of_Units Occupancy_Status Property_State    Zip  \\\n",
       "0             SF              1.0                P             CO  804.0   \n",
       "1             SF              2.0                I             CT   60.0   \n",
       "2             SF              2.0                I             CT   60.0   \n",
       "3             SF              2.0                I             CT   60.0   \n",
       "4             SF              1.0                I             TN  370.0   \n",
       "\n",
       "   Mortgage_Insurance_Per count foreclosure  \n",
       "0                     NaN    30       False  \n",
       "1                     NaN    46       False  \n",
       "2                     NaN    46       False  \n",
       "3                     NaN    46       False  \n",
       "4                     NaN    39       False  \n",
       "\n",
       "[5 rows x 24 columns]"
      ]
     },
     "execution_count": 3,
     "metadata": {},
     "output_type": "execute_result"
    }
   ],
   "source": [
    "df.head()"
   ]
  },
  {
   "cell_type": "markdown",
   "id": "81326074-0123-4ea1-b8f3-f50fb578cccd",
   "metadata": {},
   "source": [
    "## Missing values"
   ]
  },
  {
   "cell_type": "code",
   "execution_count": 103,
   "id": "7b688430-5db3-486d-b229-526b7a86604d",
   "metadata": {},
   "outputs": [
    {
     "data": {
      "text/plain": [
       "Mortgage_Insurance_Per      70.541634\n",
       "Co-Borrower_Credit_Score    53.182316\n",
       "Borrower_Credit_Score        0.069744\n",
       "DTI                          0.014530\n",
       "Zip                          0.000542\n",
       "Property_State               0.000387\n",
       "First_Time_Home_Buyer        0.000387\n",
       "Number_of_Borrowers          0.000387\n",
       "CLTV                         0.000387\n",
       "LTV                          0.000387\n",
       "First_Payment_Date           0.000387\n",
       "Origination_Date             0.000387\n",
       "Original_Loan_Term           0.000387\n",
       "Original_UPB                 0.000387\n",
       "Original_Interest_Rate       0.000387\n",
       "Seller_Name                  0.000387\n",
       "Number_of_Units              0.000387\n",
       "count                        0.000000\n",
       "Loan_ID                      0.000000\n",
       "Occupancy_Status             0.000000\n",
       "Property_Type                0.000000\n",
       "Loan_Purpose                 0.000000\n",
       "Channel                      0.000000\n",
       "foreclosure                  0.000000\n",
       "dtype: float64"
      ]
     },
     "execution_count": 103,
     "metadata": {},
     "output_type": "execute_result"
    }
   ],
   "source": [
    "miss_per = (df.isna().sum()/df.shape[0]*100).sort_values(ascending=False)\n",
    "miss_per"
   ]
  },
  {
   "cell_type": "markdown",
   "id": "f61c5127-b18e-4273-a3e7-0a6026c7d2c4",
   "metadata": {},
   "source": [
    "* Many missing values in Mortgage_Insurance_Per and Co-Borrower_Credit_Score. We may get rid of these features\n",
    "* Very few missing values on other columns we try to impute them a value"
   ]
  },
  {
   "cell_type": "markdown",
   "id": "e771a968-fae9-4eae-871b-964ee7a65051",
   "metadata": {},
   "source": [
    "## Features Overview"
   ]
  },
  {
   "cell_type": "code",
   "execution_count": 21,
   "id": "73f02134-b42c-4c02-a51b-e1b0d9495a3e",
   "metadata": {},
   "outputs": [
    {
     "data": {
      "text/plain": [
       "Index(['Loan_ID', 'Channel', 'Seller_Name', 'Original_Interest_Rate',\n",
       "       'Original_UPB', 'Original_Loan_Term', 'Origination_Date',\n",
       "       'First_Payment_Date', 'LTV', 'CLTV', 'Number_of_Borrowers', 'DTI',\n",
       "       'Borrower_Credit_Score', 'Co-Borrower_Credit_Score',\n",
       "       'First_Time_Home_Buyer', 'Loan_Purpose', 'Property_Type',\n",
       "       'Number_of_Units', 'Occupancy_Status', 'Property_State', 'Zip',\n",
       "       'Mortgage_Insurance_Per', 'count', 'foreclosure'],\n",
       "      dtype='object')"
      ]
     },
     "execution_count": 21,
     "metadata": {},
     "output_type": "execute_result"
    }
   ],
   "source": [
    "df.columns"
   ]
  },
  {
   "cell_type": "markdown",
   "id": "60bb292a-cc6d-4291-ab28-b390310d1ee3",
   "metadata": {},
   "source": [
    "Let's categorize our features as numerical, categorical or date:\n",
    "\n",
    "* Numerical: 'Original_Interest_Rate', 'LTV', 'CLTV'\n",
    "\n",
    "* Categorical: 'Channel', 'Seller_Name', \n",
    "\n",
    "* Date: 'Origination_Date', 'First_Payment_Date'"
   ]
  },
  {
   "cell_type": "markdown",
   "id": "3537fe47-f4bc-4b64-ba1a-5740398db3a8",
   "metadata": {},
   "source": [
    "### Channel\n",
    "The origination channel used by the party that delivered the loan to the issuer."
   ]
  },
  {
   "cell_type": "code",
   "execution_count": 26,
   "id": "07395666-c320-4d82-bdc4-7083ecbe6390",
   "metadata": {},
   "outputs": [
    {
     "data": {
      "text/plain": [
       "R    1439965\n",
       "C     870475\n",
       "B     270416\n",
       "Name: Channel, dtype: int64"
      ]
     },
     "execution_count": 26,
     "metadata": {},
     "output_type": "execute_result"
    }
   ],
   "source": [
    "df['Channel'].value_counts()"
   ]
  },
  {
   "cell_type": "code",
   "execution_count": 32,
   "id": "bafa0711-e4a6-4db7-92ca-b9bb612f4f02",
   "metadata": {},
   "outputs": [
    {
     "data": {
      "image/png": "[encoded data removed]",
      "text/plain": [
       "<Figure size 432x288 with 1 Axes>"
      ]
     },
     "metadata": {
      "needs_background": "light"
     },
     "output_type": "display_data"
    }
   ],
   "source": [
    "sns.countplot(x='Channel', data=df);\n",
    "sns.despine()"
   ]
  },
  {
   "cell_type": "markdown",
   "id": "34ed1b37-7130-4319-aaed-30e49c5eeb69",
   "metadata": {},
   "source": [
    "* Categorical\n",
    "* Assumes three values: Retail = 'R', Correspondent = 'C', Broker = 'B'\n",
    "* Most of them are channel R"
   ]
  },
  {
   "cell_type": "markdown",
   "id": "53841168-94db-435f-a60f-1f48e102d782",
   "metadata": {},
   "source": [
    "### Seller_Name\n",
    "The name of the entity that delivered the mortgage loan to Fannie Mae."
   ]
  },
  {
   "cell_type": "code",
   "execution_count": 34,
   "id": "d86e5ddb-b4f0-46d2-83f1-cceec6ea98d9",
   "metadata": {},
   "outputs": [
    {
     "data": {
      "text/plain": [
       "0                                   Quicken Loans Inc.\n",
       "1    United Shore Financial Services, Llc Dba Unite...\n",
       "2    United Shore Financial Services, LLC dba Unite...\n",
       "3                       United Wholesale Mortgage, LLC\n",
       "4                                   Quicken Loans Inc.\n",
       "Name: Seller_Name, dtype: object"
      ]
     },
     "execution_count": 34,
     "metadata": {},
     "output_type": "execute_result"
    }
   ],
   "source": [
    "df['Seller_Name'].head()"
   ]
  },
  {
   "cell_type": "code",
   "execution_count": 35,
   "id": "07b9f11a-2c81-4e87-9d4c-22c9108f4307",
   "metadata": {},
   "outputs": [
    {
     "data": {
      "text/plain": [
       "55"
      ]
     },
     "execution_count": 35,
     "metadata": {},
     "output_type": "execute_result"
    }
   ],
   "source": [
    "df['Seller_Name'].nunique()"
   ]
  },
  {
   "cell_type": "code",
   "execution_count": 55,
   "id": "cdd7be61-7d4a-4e31-b98c-b2c43d27aa5f",
   "metadata": {},
   "outputs": [],
   "source": [
    "sellers = (df['Seller_Name'].value_counts()).sort_values(ascending=False)[:10]"
   ]
  },
  {
   "cell_type": "code",
   "execution_count": 62,
   "id": "a0532378-0a25-478e-af16-bebaaa9df5df",
   "metadata": {},
   "outputs": [
    {
     "data": {
      "image/png": "[encoded data removed]",
      "text/plain": [
       "<Figure size 576x360 with 1 Axes>"
      ]
     },
     "metadata": {
      "needs_background": "light"
     },
     "output_type": "display_data"
    }
   ],
   "source": [
    "plt.figure(figsize=(8,5))\n",
    "sns.barplot(sellers, sellers.index, color='cornflowerblue');\n",
    "plt.title('Top 10 Sellers');\n",
    "sns.despine(offset=10);"
   ]
  },
  {
   "cell_type": "markdown",
   "id": "ab63333f-5213-4578-844f-06dbb060eeaa",
   "metadata": {},
   "source": [
    "* Categorical\n",
    "* There 55 sellers categories"
   ]
  },
  {
   "cell_type": "markdown",
   "id": "bb0a7fed-3729-4d3b-9ec0-e9eb9a98940b",
   "metadata": {},
   "source": [
    "### Original_Interest_Rate\n",
    "The original interest rate on a mortgage loan as identified in the original mortgage note."
   ]
  },
  {
   "cell_type": "code",
   "execution_count": 76,
   "id": "5587e6ea-1b4a-4c3b-8668-227467749167",
   "metadata": {},
   "outputs": [
    {
     "data": {
      "text/plain": [
       "count    2.580846e+06\n",
       "mean     4.136184e+00\n",
       "std      4.932804e-01\n",
       "min      1.790000e+00\n",
       "25%      3.875000e+00\n",
       "50%      4.125000e+00\n",
       "75%      4.490000e+00\n",
       "max      6.125000e+00\n",
       "Name: Original_Interest_Rate, dtype: float64"
      ]
     },
     "execution_count": 76,
     "metadata": {},
     "output_type": "execute_result"
    }
   ],
   "source": [
    "df['Original_Interest_Rate'].describe()"
   ]
  },
  {
   "cell_type": "code",
   "execution_count": 75,
   "id": "77431d36-e236-42a0-84a7-7fb8174e369a",
   "metadata": {},
   "outputs": [
    {
     "data": {
      "image/png": "[encoded data removed]",
      "text/plain": [
       "<Figure size 432x288 with 1 Axes>"
      ]
     },
     "metadata": {
      "needs_background": "light"
     },
     "output_type": "display_data"
    }
   ],
   "source": [
    "sns.histplot(df['Original_Intdescribet_Rate'], bins=20);\n",
    "sns.despine()"
   ]
  },
  {
   "cell_type": "code",
   "execution_count": 78,
   "id": "dcd7efe0-706f-4636-a6b6-9e40e026b7ca",
   "metadata": {},
   "outputs": [
    {
     "data": {
      "text/plain": [
       "(-0.18569382709852295, 0.21592025027094186)"
      ]
     },
     "execution_count": 78,
     "metadata": {},
     "output_type": "execute_result"
    }
   ],
   "source": [
    "df['Original_Interest_Rate'].skew(), df['Original_Interest_Rate'].kurtosis()"
   ]
  },
  {
   "cell_type": "markdown",
   "id": "c78a6512-3187-437b-99cb-bec3e63d77a3",
   "metadata": {},
   "source": [
    "* Numerical - Continuous\n",
    "* Values from 1.79 to 6.12\n",
    "* Data is fairly simmetrical"
   ]
  },
  {
   "cell_type": "markdown",
   "id": "4a9f863b-042e-44da-aa5f-0bdc071516ae",
   "metadata": {},
   "source": [
    "### Original_UPB\n",
    "The dollar amount of the loan as stated on the note at the time the loan was originated."
   ]
  },
  {
   "cell_type": "code",
   "execution_count": 84,
   "id": "3f0c831a-54d1-4b0d-89eb-ce3853656d55",
   "metadata": {},
   "outputs": [
    {
     "data": {
      "text/plain": [
       "count    2.580846e+06\n",
       "mean     2.303957e+05\n",
       "std      1.196219e+05\n",
       "min      5.000000e+03\n",
       "25%      1.390000e+05\n",
       "50%      2.080000e+05\n",
       "75%      3.020000e+05\n",
       "max      1.223000e+06\n",
       "Name: Original_UPB, dtype: float64"
      ]
     },
     "execution_count": 84,
     "metadata": {},
     "output_type": "execute_result"
    }
   ],
   "source": [
    "df['Original_UPB'].describe()"
   ]
  },
  {
   "cell_type": "code",
   "execution_count": 80,
   "id": "9016ed61-f0fa-4668-b496-35313e42c7ab",
   "metadata": {},
   "outputs": [
    {
     "data": {
      "image/png": "[encoded data removed]",
      "text/plain": [
       "<Figure size 432x288 with 1 Axes>"
      ]
     },
     "metadata": {
      "needs_background": "light"
     },
     "output_type": "display_data"
    }
   ],
   "source": [
    "sns.histplot(df['Original_UPB'], bins=20);\n",
    "sns.despine()"
   ]
  },
  {
   "cell_type": "code",
   "execution_count": 82,
   "id": "904d5cc4-d8b6-4e78-a2d2-7f847717d85d",
   "metadata": {},
   "outputs": [
    {
     "data": {
      "text/plain": [
       "(0.9169795220433988, 1.0055926411148057)"
      ]
     },
     "execution_count": 82,
     "metadata": {},
     "output_type": "execute_result"
    }
   ],
   "source": [
    "df['Original_UPB'].skew(), df['Original_UPB'].kurtosis()"
   ]
  },
  {
   "cell_type": "markdown",
   "id": "9e4ec969-796b-44c8-b25c-d98c3e2e5e93",
   "metadata": {},
   "source": [
    "* Numerical, continuous\n",
    "* High right skewness "
   ]
  },
  {
   "cell_type": "code",
   "execution_count": 86,
   "id": "f4d02bea-98b3-4513-9c17-536d22bf34d7",
   "metadata": {},
   "outputs": [
    {
     "data": {
      "text/plain": [
       "Index(['Loan_ID', 'Channel', 'Seller_Name', 'Original_Interest_Rate',\n",
       "       'Original_UPB', 'Original_Loan_Term', 'Origination_Date',\n",
       "       'First_Payment_Date', 'LTV', 'CLTV', 'Number_of_Borrowers', 'DTI',\n",
       "       'Borrower_Credit_Score', 'Co-Borrower_Credit_Score',\n",
       "       'First_Time_Home_Buyer', 'Loan_Purpose', 'Property_Type',\n",
       "       'Number_of_Units', 'Occupancy_Status', 'Property_State', 'Zip',\n",
       "       'Mortgage_Insurance_Per', 'count', 'foreclosure'],\n",
       "      dtype='object')"
      ]
     },
     "execution_count": 86,
     "metadata": {},
     "output_type": "execute_result"
    }
   ],
   "source": [
    "df.columns"
   ]
  },
  {
   "cell_type": "markdown",
   "id": "6a6ead2f-8f0f-4e7a-b047-dadf82fe80c2",
   "metadata": {},
   "source": [
    "### Original_Loan_Term\n",
    "For fixed-rate, adjustable-rate and Interest-only mortgages, the number of months in which\n",
    "regularly scheduled borrower payments are due at the time the loan was originated."
   ]
  },
  {
   "cell_type": "code",
   "execution_count": 89,
   "id": "efb41dc7-f946-4026-95e3-559c7a3e150c",
   "metadata": {},
   "outputs": [
    {
     "data": {
      "text/plain": [
       "count    2.580846e+06\n",
       "mean     3.207924e+02\n",
       "std      7.312856e+01\n",
       "min      3.600000e+01\n",
       "25%      3.600000e+02\n",
       "50%      3.600000e+02\n",
       "75%      3.600000e+02\n",
       "max      3.600000e+02\n",
       "Name: Original_Loan_Term, dtype: float64"
      ]
     },
     "execution_count": 89,
     "metadata": {},
     "output_type": "execute_result"
    }
   ],
   "source": [
    "df['Original_Loan_Term'].describe()"
   ]
  },
  {
   "cell_type": "code",
   "execution_count": 93,
   "id": "2cf3e8f2-05d0-40fc-a44b-d274e8ebf177",
   "metadata": {},
   "outputs": [
    {
     "data": {
      "image/png": "[encoded data removed]",
      "text/plain": [
       "<Figure size 432x288 with 1 Axes>"
      ]
     },
     "metadata": {
      "needs_background": "light"
     },
     "output_type": "display_data"
    }
   ],
   "source": [
    "sns.histplot(df['Original_Loan_Term'], bins=5);\n",
    "sns.despine()"
   ]
  },
  {
   "cell_type": "markdown",
   "id": "ff417fe6-f29c-4e53-9443-a19470f0af54",
   "metadata": {},
   "source": [
    "* Numerical, discrete\n",
    "* Values between 36 to 360 months\n",
    "* Most loans are > 300"
   ]
  },
  {
   "cell_type": "markdown",
   "id": "e35059f5-cd7a-4713-be6d-00f12bcb9162",
   "metadata": {},
   "source": [
    "### Origination_Date\n",
    "The date of each individual note."
   ]
  },
  {
   "cell_type": "code",
   "execution_count": 102,
   "id": "3e45b533-22e7-4334-9564-70248bc7b9b0",
   "metadata": {},
   "outputs": [
    {
     "data": {
      "text/plain": [
       "2357239    32017.0\n",
       "2113512    42017.0\n",
       "2257       22017.0\n",
       "1134054    72017.0\n",
       "2385070    42017.0\n",
       "Name: Origination_Date, dtype: float64"
      ]
     },
     "execution_count": 102,
     "metadata": {},
     "output_type": "execute_result"
    }
   ],
   "source": [
    "df['Origination_Date'].sample(5)"
   ]
  },
  {
   "cell_type": "markdown",
   "id": "ddc7f577-00ee-4663-98f9-acb818644a3f",
   "metadata": {},
   "source": [
    "Date columns need some cleaning"
   ]
  },
  {
   "cell_type": "code",
   "execution_count": 98,
   "id": "f626ad03-2ec3-40fd-8153-1c89e8890ca3",
   "metadata": {},
   "outputs": [
    {
     "data": {
      "text/plain": [
       "10"
      ]
     },
     "execution_count": 98,
     "metadata": {},
     "output_type": "execute_result"
    }
   ],
   "source": [
    "df['Origination_Date'].isna().sum()"
   ]
  },
  {
   "cell_type": "code",
   "execution_count": 154,
   "id": "4b79b008-8e71-4d58-b61b-6a33bf9dc10f",
   "metadata": {},
   "outputs": [],
   "source": [
    "def process_date(date_str, key):\n",
    "    \"\"\" Parse date string and return month/year value according to key parameter \"\"\"\n",
    "    date_str = date_str[:-2] # remove '.0'\n",
    "    if key == 'month':\n",
    "        month = date_str[:-4]\n",
    "        return month\n",
    "    elif key == 'year':\n",
    "        year = date_str[-4:]\n",
    "        return year\n",
    "    else:\n",
    "        raise ValueError(\"invalid key, only accepts 'month' or 'year'\")"
   ]
  },
  {
   "cell_type": "code",
   "execution_count": 155,
   "id": "788d8b3d-4ad8-4dd6-a942-82f184e7b931",
   "metadata": {},
   "outputs": [],
   "source": [
    "df['orig_month'] = df['Origination_Date'].astype(str).apply(lambda date: process_date(date, key='month'))\n",
    "df['orig_year'] = df['Origination_Date'].astype(str).apply(lambda date: process_date(date, key='year'))"
   ]
  },
  {
   "cell_type": "code",
   "execution_count": 170,
   "id": "06937791-b618-4516-a68f-0671e0b4069b",
   "metadata": {},
   "outputs": [
    {
     "data": {
      "image/png": "[encoded data removed]",
      "text/plain": [
       "<Figure size 864x288 with 1 Axes>"
      ]
     },
     "metadata": {
      "needs_background": "light"
     },
     "output_type": "display_data"
    }
   ],
   "source": [
    "plt.figure(figsize=(12, 4))\n",
    "sns.countplot(df['orig_month'], color='cornflowerblue', order=np.arange(1, 13).astype('str'));"
   ]
  },
  {
   "cell_type": "code",
   "execution_count": 169,
   "id": "ea6ad643-1671-41f8-b873-c7f2a9de3fcf",
   "metadata": {},
   "outputs": [
    {
     "data": {
      "image/png": "[encoded data removed]",
      "text/plain": [
       "<Figure size 576x288 with 1 Axes>"
      ]
     },
     "metadata": {
      "needs_background": "light"
     },
     "output_type": "display_data"
    }
   ],
   "source": [
    "plt.figure(figsize=(8, 4))\n",
    "sns.countplot(df['orig_year'], color='cornflowerblue', order=np.arange(2014, 2018).astype('str'));"
   ]
  },
  {
   "cell_type": "markdown",
   "id": "ad1dcc0b-334c-4049-b2b0-73e027914955",
   "metadata": {},
   "source": [
    "* Date feature\n",
    "* Has 10 missing values\n",
    "* Year values are: 2014, 2015, 2016, 2017"
   ]
  },
  {
   "cell_type": "markdown",
   "id": "fee5ed59-3ba4-4a1d-bda4-81ed1aba597d",
   "metadata": {},
   "source": [
    "### First_Payment_Date\n",
    "The date of the first scheduled mortgage loan payment to be made by the borrower under the\n",
    "terms of the mortgage loan documents."
   ]
  },
  {
   "cell_type": "code",
   "execution_count": 173,
   "id": "6133bf23-505f-4ff1-a19c-7eecae1fcb65",
   "metadata": {},
   "outputs": [],
   "source": [
    "df['first_payment_month'] = df['First_Payment_Date'].astype(str).apply(lambda date: process_date(date, key='month'))\n",
    "df['first_payment_year'] = df['First_Payment_Date'].astype(str).apply(lambda date: process_date(date, key='year'))"
   ]
  },
  {
   "cell_type": "code",
   "execution_count": 175,
   "id": "67ae73dd-7276-4d71-8cdc-e62817c47888",
   "metadata": {},
   "outputs": [
    {
     "data": {
      "image/png": "[encoded data removed]",
      "text/plain": [
       "<Figure size 864x288 with 1 Axes>"
      ]
     },
     "metadata": {
      "needs_background": "light"
     },
     "output_type": "display_data"
    }
   ],
   "source": [
    "plt.figure(figsize=(12, 4))\n",
    "sns.countplot(df['first_payment_month'], color='cornflowerblue', order=np.arange(1, 13).astype('str'));"
   ]
  },
  {
   "cell_type": "code",
   "execution_count": 178,
   "id": "e723e8de-6ea8-4faf-9858-078ecc812005",
   "metadata": {},
   "outputs": [
    {
     "data": {
      "image/png": "[encoded data removed]",
      "text/plain": [
       "<Figure size 576x288 with 1 Axes>"
      ]
     },
     "metadata": {
      "needs_background": "light"
     },
     "output_type": "display_data"
    }
   ],
   "source": [
    "plt.figure(figsize=(8, 4))\n",
    "sns.countplot(df['first_payment_year'], color='cornflowerblue', order=np.arange(2015, 2019).astype('str'));"
   ]
  },
  {
   "cell_type": "markdown",
   "id": "bfff4ad3-64de-4843-b21f-8ccfd801be3a",
   "metadata": {},
   "source": [
    "* Date feature\n",
    "* Year values are: 2015, 2016, 2017, 2018"
   ]
  },
  {
   "cell_type": "code",
   "execution_count": 181,
   "id": "2fded05f-0eb7-45e4-baed-88a8937fd5f6",
   "metadata": {},
   "outputs": [
    {
     "data": {
      "text/plain": [
       "Index(['Loan_ID', 'Channel', 'Seller_Name', 'Original_Interest_Rate',\n",
       "       'Original_UPB', 'Original_Loan_Term', 'Origination_Date',\n",
       "       'First_Payment_Date', 'LTV', 'CLTV', 'Number_of_Borrowers', 'DTI',\n",
       "       'Borrower_Credit_Score', 'Co-Borrower_Credit_Score',\n",
       "       'First_Time_Home_Buyer', 'Loan_Purpose', 'Property_Type',\n",
       "       'Number_of_Units', 'Occupancy_Status', 'Property_State', 'Zip',\n",
       "       'Mortgage_Insurance_Per', 'count', 'foreclosure', 'orig_month',\n",
       "       'orig_year', 'first_payment_month', 'first_payment_year'],\n",
       "      dtype='object')"
      ]
     },
     "execution_count": 181,
     "metadata": {},
     "output_type": "execute_result"
    }
   ],
   "source": [
    "df.columns"
   ]
  },
  {
   "cell_type": "markdown",
   "id": "a5bb5afb-9157-4bb9-bb38-2482266e1aff",
   "metadata": {},
   "source": [
    "### LTV, CLTV\n",
    "LTV: The ratio, expressed as a percentage, obtained by dividing the amount of the loan at origination by\n",
    "the value of the property.\n",
    "\\\n",
    "CLTV: The ratio, expressed as a percentage, obtained by dividing the amount of all known outstanding loans at origination by the value of the property"
   ]
  },
  {
   "cell_type": "code",
   "execution_count": 191,
   "id": "a780d6fd-2d89-4a12-b478-5c4c822bcd13",
   "metadata": {},
   "outputs": [
    {
     "data": {
      "image/png": "[encoded data removed]",
      "text/plain": [
       "<Figure size 1080x360 with 2 Axes>"
      ]
     },
     "metadata": {
      "needs_background": "light"
     },
     "output_type": "display_data"
    }
   ],
   "source": [
    "fig, axes = plt.subplots(1, 2, figsize=(15, 5))\n",
    "sns.histplot(df['LTV'], ax=axes[0], bins=20);\n",
    "sns.histplot(df['CLTV'], ax=axes[1], bins=20);\n",
    "sns.despine()"
   ]
  },
  {
   "cell_type": "markdown",
   "id": "8833a1e8-b144-4344-91ca-594d65a742ae",
   "metadata": {},
   "source": [
    "* Numerical, discrete\n",
    "* Values between 0 and 100 (percentage)"
   ]
  },
  {
   "cell_type": "markdown",
   "id": "173944d0-b7a0-469a-b848-f9c774248081",
   "metadata": {},
   "source": [
    "### Number_of_Borrowers\n",
    "The number of individuals obligated to repay the mortgage loan."
   ]
  },
  {
   "cell_type": "code",
   "execution_count": null,
   "id": "58844000-b417-453c-9686-ace559e02185",
   "metadata": {},
   "outputs": [],
   "source": []
  }
 ],
 "metadata": {
  "kernelspec": {
   "display_name": "Python 3",
   "language": "python",
   "name": "python3"
  },
  "language_info": {
   "codemirror_mode": {
    "name": "ipython",
    "version": 3
   },
   "file_extension": ".py",
   "mimetype": "text/x-python",
   "name": "python",
   "nbconvert_exporter": "python",
   "pygments_lexer": "ipython3",
   "version": "3.9.4"
  }
 },
 "nbformat": 4,
 "nbformat_minor": 5
}
