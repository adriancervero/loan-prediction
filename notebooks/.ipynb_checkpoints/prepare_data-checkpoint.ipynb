{
 "cells": [
  {
   "cell_type": "code",
   "execution_count": 2,
   "id": "089fb7b0-e0dd-4fe0-abef-6d963a972880",
   "metadata": {},
   "outputs": [],
   "source": [
    "import pandas as pd\n",
    "import dask.dataframe as dd\n",
    "import pickle\n",
    "from dask.delayed import delayed"
   ]
  },
  {
   "cell_type": "code",
   "execution_count": 3,
   "id": "fbcef474-67f9-4409-8235-b9aa6b1f885e",
   "metadata": {},
   "outputs": [],
   "source": [
    "HEADERS = [\n",
    "    \"Pool_ID\",\n",
    "    \"Loan_ID\",\n",
    "    \"Month_Reporting_Period\",\n",
    "    \"Channel\",\n",
    "    \"Seller_Name\",\n",
    "    \"Servicer_Name\",\n",
    "    \"Master_Servicer\",\n",
    "    \"Original_Interest_Rate\",\n",
    "    \"Current_Interest_Rate\",\n",
    "    \"Original_UPB\",\n",
    "    \"UPB_at_Issuance\",\n",
    "    \"Current_Actual_UPB\",\n",
    "    \"Original_Loan_Term\",\n",
    "    \"Origination_Date\",\n",
    "    \"First_Payment_Date\",\n",
    "    \"Loan_Age\",\n",
    "    \"Months_to_Legal_Maturity\",\n",
    "    \"Months_to_Maturity\",\n",
    "    \"Maturity_Date\",\n",
    "    \"LTV\",\n",
    "    \"CLTV\",\n",
    "    \"Number_of_Borrowers\",\n",
    "    \"DTI\",\n",
    "    \"Borrower_Credit_Score\",\n",
    "    \"Co-Borrower_Credit_Score\",\n",
    "    \"First_Time_Home_Buyer\",\n",
    "    \"Loan_Purpose\",\n",
    "    \"Property_Type\",\n",
    "    \"Number_of_Units\",\n",
    "    \"Occupancy_Status\",\n",
    "    \"Property_State\",\n",
    "    \"MSA\",\n",
    "    \"Zip\",\n",
    "    \"Mortgage_Insurance_Per\",\n",
    "    \"Amortization_Type\",\n",
    "    \"Prepayment_Penalty_Indicator\",\n",
    "    \"Interest_Only_Loan_Indicator\",\n",
    "    \"First_Principal_Interest_Payment_date\",\n",
    "    \"Months_to_Amortization\",\n",
    "    \"Current_Loan_Delinquency_Status\",\n",
    "    \"Loan_Payment_History\",\n",
    "    \"Modification_Flag\",\n",
    "    \"Mortgage_Insurance_Cancellation\",\n",
    "    \"Zero_Balance_Code\",\n",
    "    \"Zero_Balance_Effective_Date\",\n",
    "    \"UPB_at_Time_Removal\",\n",
    "    \"Repurchase_Date\",\n",
    "    \"Scheduled_Principal_Current\",\n",
    "    \"Total_Principal_Current\",\n",
    "    \"Unscheduled_Principal_Current\",\n",
    "    \"Last_Paid_Installment_Date\",\n",
    "    \"Foreclosure_Date\",\n",
    "    \"Disposition_Date\",\n",
    "    \"Foreclosure_Costs\",\n",
    "    \"Property_Preservation_And_Repair_Costs\",\n",
    "    \"Asset_Recovery_Costs\",\n",
    "    \"Miscellaneous_Holding_Expenses\",\n",
    "    \"Associated_Taxes\",\n",
    "    \"Net_Sales_Proceeds\",\n",
    "    \"Credit_Enhancement_Proceeds\",\n",
    "    \"Repurchase_Make_Whole_Proceeds\",\n",
    "    \"Other_Foreclosure_Proceeds\",\n",
    "    \"UPB\",\n",
    "    \"Principal_Forgiveness_Amount\",\n",
    "    \"Original_List_Start_Date\",\n",
    "    \"Original_List_Price\",\n",
    "    \"Current_List_Start_Date\",\n",
    "    \"Current_List_Price\",\n",
    "    \"Borrower_Credit_Score_At_Issuance\",\n",
    "    \"Co-Borrower_Credit_Score_At_Issuance\",\n",
    "    \"Borrower_Credit_Score_Current\",\n",
    "    \"Co-Borrower_Credit_Score_Current\",\n",
    "    \"Mortgage_Insurance_Type\",\n",
    "    \"Servicing_Activity_Indicator\",\n",
    "    \"Current_Period_Modification_Loss_Amount\",\n",
    "    \"Cumulative_Modification_Loss_Amount\",\n",
    "    \"Current_Period_Credit_Event\",\n",
    "    \"Cumulative_Credit_Event\",\n",
    "    \"HomeReady_Indicator\",\n",
    "    \"Foreclosure_Principal_Write-off\",\n",
    "    \"Relocation_Mortgage\",\n",
    "    \"Zero_Balance_Code_Change_Date\",\n",
    "    \"Loan_Holdback\",\n",
    "    \"Loan_Holdback_Effective_Date\",\n",
    "    \"Delinquent_Accrued\",\n",
    "    \"Property_Valuation_Method\",\n",
    "    \"High_Balance_Loan\",\n",
    "    \"ARM_Period_<=5\",\n",
    "    \"ARM_Product_Type\",\n",
    "    \"Initial_Fixed-Rate_Period\",\n",
    "    \"Interest_Rate_Adjustament_Frequency\",\n",
    "    \"Next_Interest_Rate_Adjustment_Date\",\n",
    "    \"Next_Payment_Change_Date\",\n",
    "    \"Index\",\n",
    "    \"ARM_Cap_Structure\",\n",
    "    \"Initial_Interest_Rate_Cap_Up\",\n",
    "    \"Periodic_Interest_Rate_Cap_Up\",\n",
    "    \"Lifetime_Interest_Rate\",\n",
    "    \"Mortgage_Margin\",\n",
    "    \"ARM_Ballon\",\n",
    "    \"ARM_Plan_Number\",\n",
    "    \"Borrower_Assistance_Plan\",\n",
    "    \"High_Loan_to_Value\",\n",
    "    \"Deal_Name\",\n",
    "    \"Repurchase_Make_Whole_Proceeds_Flag\",\n",
    "    \"Delinquency_Resolution\",\n",
    "    \"Delinquency_Resolution_Count\",\n",
    "    \"Total_Deferral_Amount\",\n",
    "]\n",
    "\n",
    "SELECT = [\n",
    "    'Loan_ID',\n",
    "    'Channel',\n",
    "    'Seller_Name',\n",
    "    'Original_Interest_Rate',\n",
    "    'Original_UPB',\n",
    "    'Original_Loan_Term',\n",
    "    \"Origination_Date\",\n",
    "    \"First_Payment_Date\",\n",
    "    \"LTV\",\n",
    "    \"CLTV\",\n",
    "    \"Number_of_Borrowers\",\n",
    "    \"DTI\",\n",
    "    \"Borrower_Credit_Score\",\n",
    "    \"Co-Borrower_Credit_Score\",\n",
    "    \"First_Time_Home_Buyer\",\n",
    "    \"Loan_Purpose\",\n",
    "    \"Property_Type\",\n",
    "    \"Number_of_Units\",\n",
    "    \"Occupancy_Status\",\n",
    "    \"Property_State\",\n",
    "    \"Zip\",\n",
    "    \"Mortgage_Insurance_Per\",\n",
    "    \n",
    "    \"Foreclosure_Date\",\n",
    "]"
   ]
  },
  {
   "cell_type": "code",
   "execution_count": 4,
   "id": "89a09fb4-9e26-4ee0-b017-bbe3e1f8f771",
   "metadata": {},
   "outputs": [],
   "source": [
    "import os\n",
    "data_files = os.listdir('../data/raw/')"
   ]
  },
  {
   "cell_type": "code",
   "execution_count": 5,
   "id": "a9853577-fdb3-40a4-b6e9-6da79dcbc5be",
   "metadata": {},
   "outputs": [],
   "source": [
    "def count_loans():\n",
    "    \"\"\" Return a dict with loan counts by ID \"\"\"\n",
    "    chunksize = 10 ** 6\n",
    "    data = pd.DataFrame()\n",
    "    counts_dict = {}\n",
    "    for file in data_files:\n",
    "        if file == '.gitkeep':\n",
    "            continue\n",
    "        for chunk in pd.read_csv('../data/raw/'+file, sep='|', header=None, names=HEADERS, usecols=SELECT, chunksize=chunksize):\n",
    "            grouped = chunk.groupby('Loan_ID')['Foreclosure_Date'].count().reset_index()\n",
    "            for row in grouped.itertuples():\n",
    "                id_ = row.Loan_ID\n",
    "                counts = row.Foreclosure_Date\n",
    "                if id_ in counts_dict.keys():\n",
    "                    counts_dict[id_] += counts\n",
    "                else:\n",
    "                    counts_dict[id_] = counts\n",
    "        print(file)\n",
    "    return counts_dict"
   ]
  },
  {
   "cell_type": "code",
   "execution_count": 6,
   "id": "5b826dbe-0f0e-4225-980e-2417fb589178",
   "metadata": {},
   "outputs": [],
   "source": [
    "import os\n",
    "import zipfile\n",
    "\n",
    "def count_loans():\n",
    "    \"\"\" Return a dict with loan counts by ID \"\"\"\n",
    "    counts_dict = {}    \n",
    "    for file in data_files:\n",
    "        if file == '.gitkeep':\n",
    "            continue\n",
    "        file_path = os.path.join('../data/raw', file)\n",
    "        csv_file = file.split('.')[0] + '.csv'\n",
    "        with zipfile.ZipFile(file_path) as z:\n",
    "            with z.open(csv_file, 'r') as f:\n",
    "                for line in f:\n",
    "                    line_splited = line.decode().split('|')\n",
    "                    loan_id, date = line_splited[1], line_splited[51]\n",
    "                   \n",
    "                    if loan_id in counts_dict.keys():\n",
    "                        counts_dict[loan_id]['count'] += 1\n",
    "                    else:\n",
    "                        counts_dict[loan_id] = {\n",
    "                            'foreclosure_status': False,\n",
    "                            'count': 1,\n",
    "                        }\n",
    "                    if date != '':\n",
    "                        counts_dict[loan_id]['foreclosure_status'] = True\n",
    "        print(file)\n",
    "    return counts_dict"
   ]
  },
  {
   "cell_type": "code",
   "execution_count": 7,
   "id": "1a6e3676-1577-455f-a7ea-f17754a88dd1",
   "metadata": {},
   "outputs": [
    {
     "name": "stdout",
     "output_type": "stream",
     "text": [
      "CPU times: user 4 µs, sys: 2 µs, total: 6 µs\n",
      "Wall time: 11.2 µs\n"
     ]
    }
   ],
   "source": [
    "%%time\n",
    "#counts_dict = count_loans()\n",
    "#pickle.dump(counts_dict, open('../data/interim/counts_dict.pkl', 'wb'))"
   ]
  },
  {
   "cell_type": "code",
   "execution_count": 8,
   "id": "9594c17d-997b-4930-9988-1378a2486885",
   "metadata": {},
   "outputs": [],
   "source": [
    "#counts_dict = pickle.load(open('../data/interim/counts_dict.pkl', 'rb'))"
   ]
  },
  {
   "cell_type": "code",
   "execution_count": 9,
   "id": "3c08ff05-6158-4e64-9012-57cf3fab397c",
   "metadata": {},
   "outputs": [
    {
     "data": {
      "text/plain": [
       "['2017Q1.csv',\n",
       " '2018Q1.csv',\n",
       " '2018Q2.csv',\n",
       " '2018Q4.csv',\n",
       " '2017Q3.csv',\n",
       " '2019Q1.csv',\n",
       " '2019Q3.csv',\n",
       " '2018Q3.csv',\n",
       " '2019Q4.csv',\n",
       " '2019Q2.csv',\n",
       " '.gitkeep',\n",
       " '2017Q4.csv',\n",
       " '2017Q2.csv']"
      ]
     },
     "execution_count": 9,
     "metadata": {},
     "output_type": "execute_result"
    }
   ],
   "source": [
    "data_files"
   ]
  },
  {
   "cell_type": "code",
   "execution_count": 10,
   "id": "9a695700-8f0e-42f7-956e-8bea053bd31e",
   "metadata": {},
   "outputs": [
    {
     "name": "stdout",
     "output_type": "stream",
     "text": [
      "2017Q1.csv 595413\n",
      "2017Q3.csv 1290538\n",
      "2017Q4.csv 1962633\n",
      "2017Q2.csv 2582152\n",
      "CPU times: user 5min 20s, sys: 33.7 s, total: 5min 54s\n",
      "Wall time: 6min\n"
     ]
    }
   ],
   "source": [
    "%%time\n",
    "chunksize = 10 ** 6\n",
    "data = pd.DataFrame()\n",
    "for file in data_files:\n",
    "    if file == '.gitkeep' or not file.startswith('2017'):\n",
    "        continue\n",
    "    for chunk in pd.read_csv('../data/raw/'+file, sep='|', header=None, names=HEADERS, usecols=SELECT, chunksize=chunksize):\n",
    "        \n",
    "        data = data.append(chunk)\n",
    "        data = data.drop_duplicates()\n",
    "        \n",
    "    print(file, data.shape[0])"
   ]
  },
  {
   "cell_type": "code",
   "execution_count": 13,
   "id": "c827ed6d-eac2-4e6c-9073-b433b0501ab9",
   "metadata": {},
   "outputs": [
    {
     "data": {
      "text/plain": [
       "(2582152, 23)"
      ]
     },
     "execution_count": 13,
     "metadata": {},
     "output_type": "execute_result"
    }
   ],
   "source": [
    "data.shape"
   ]
  },
  {
   "cell_type": "code",
   "execution_count": null,
   "id": "e1cfe19f-4855-49d7-b47e-f30c009fd43a",
   "metadata": {},
   "outputs": [],
   "source": []
  }
 ],
 "metadata": {
  "kernelspec": {
   "display_name": "Python 3",
   "language": "python",
   "name": "python3"
  },
  "language_info": {
   "codemirror_mode": {
    "name": "ipython",
    "version": 3
   },
   "file_extension": ".py",
   "mimetype": "text/x-python",
   "name": "python",
   "nbconvert_exporter": "python",
   "pygments_lexer": "ipython3",
   "version": "3.9.4"
  }
 },
 "nbformat": 4,
 "nbformat_minor": 5
}
